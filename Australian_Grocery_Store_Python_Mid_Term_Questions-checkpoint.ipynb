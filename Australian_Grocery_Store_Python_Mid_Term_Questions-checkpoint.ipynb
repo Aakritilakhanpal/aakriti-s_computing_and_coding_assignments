{
 "cells": [
  {
   "cell_type": "markdown",
   "id": "e8668c2c",
   "metadata": {},
   "source": [
    "# Australian Grocery Store Python Midterm Solution\n",
    "\n",
    "- **Name:** Aakriti Lakhanpal\n",
    "- **Division:** B\n",
    "- **Roll Number:** 2\n",
    "\n",
    "- **File Last Updated:** October 2nd, 2021\n",
    "- **Other Comments:** "
   ]
  },
  {
   "cell_type": "markdown",
   "id": "95b5e032",
   "metadata": {},
   "source": [
    "# Part 1: Project Setup"
   ]
  },
  {
   "cell_type": "code",
   "execution_count": 1,
   "id": "6335245f",
   "metadata": {},
   "outputs": [],
   "source": [
    "# DO NOT DELETE: Import the Pandas, Seaborn, and Matplotlib Packages\n",
    "import pandas as pd\n",
    "import seaborn as sns\n",
    "import matplotlib.pyplot as plt"
   ]
  },
  {
   "cell_type": "code",
   "execution_count": 2,
   "id": "0fdbcfad",
   "metadata": {},
   "outputs": [],
   "source": [
    "# DO NOT DELETE: Print all rows of all dataframes\n",
    "pd.set_option('display.max_rows', None)\n",
    "pd.options.display.float_format = \"{:,.2f}\".format"
   ]
  },
  {
   "cell_type": "markdown",
   "id": "a24fcaba",
   "metadata": {},
   "source": [
    "# Part 2: Importing and Preparing the Data (10 Marks)"
   ]
  },
  {
   "cell_type": "code",
   "execution_count": 3,
   "id": "6c113fc3",
   "metadata": {},
   "outputs": [
    {
     "data": {
      "text/html": [
       "<div>\n",
       "<style scoped>\n",
       "    .dataframe tbody tr th:only-of-type {\n",
       "        vertical-align: middle;\n",
       "    }\n",
       "\n",
       "    .dataframe tbody tr th {\n",
       "        vertical-align: top;\n",
       "    }\n",
       "\n",
       "    .dataframe thead th {\n",
       "        text-align: right;\n",
       "    }\n",
       "</style>\n",
       "<table border=\"1\" class=\"dataframe\">\n",
       "  <thead>\n",
       "    <tr style=\"text-align: right;\">\n",
       "      <th></th>\n",
       "      <th>receipt_id</th>\n",
       "      <th>date</th>\n",
       "      <th>item_code</th>\n",
       "      <th>item_name</th>\n",
       "      <th>quantity</th>\n",
       "      <th>payment_type</th>\n",
       "      <th>unit_buying_price</th>\n",
       "      <th>unit_selling_price</th>\n",
       "      <th>unit_price_margin</th>\n",
       "    </tr>\n",
       "  </thead>\n",
       "  <tbody>\n",
       "    <tr>\n",
       "      <th>0</th>\n",
       "      <td>4c4c9a80-b861-445e-9abc-6e70e84fd0d3</td>\n",
       "      <td>2/17/2017 12:17:17 AM</td>\n",
       "      <td>2003</td>\n",
       "      <td>Apples Pink Lady</td>\n",
       "      <td>0.14</td>\n",
       "      <td>cash</td>\n",
       "      <td>0.00</td>\n",
       "      <td>2.99</td>\n",
       "      <td>2.99</td>\n",
       "    </tr>\n",
       "    <tr>\n",
       "      <th>1</th>\n",
       "      <td>65d59c3b-b474-482f-8779-3249d6fee305</td>\n",
       "      <td>2/2/2017 10:14:16 PM</td>\n",
       "      <td>2003</td>\n",
       "      <td>Apples Pink Lady</td>\n",
       "      <td>0.15</td>\n",
       "      <td>cash</td>\n",
       "      <td>0.00</td>\n",
       "      <td>2.99</td>\n",
       "      <td>2.99</td>\n",
       "    </tr>\n",
       "    <tr>\n",
       "      <th>2</th>\n",
       "      <td>4443f4db-a5ba-4693-a6e1-70840ce6076e</td>\n",
       "      <td>2/21/2017 2:11:10 AM</td>\n",
       "      <td>2003</td>\n",
       "      <td>Apples Pink Lady</td>\n",
       "      <td>0.15</td>\n",
       "      <td>cash</td>\n",
       "      <td>0.00</td>\n",
       "      <td>2.99</td>\n",
       "      <td>2.99</td>\n",
       "    </tr>\n",
       "    <tr>\n",
       "      <th>3</th>\n",
       "      <td>3399ecfd-f809-4653-9310-d41015e09f8a</td>\n",
       "      <td>1/10/2017 3:11:14 AM</td>\n",
       "      <td>2003</td>\n",
       "      <td>Apples Pink Lady</td>\n",
       "      <td>0.15</td>\n",
       "      <td>cash</td>\n",
       "      <td>0.00</td>\n",
       "      <td>2.99</td>\n",
       "      <td>2.99</td>\n",
       "    </tr>\n",
       "    <tr>\n",
       "      <th>4</th>\n",
       "      <td>085663fa-1fde-4ffc-adfc-527599065a87</td>\n",
       "      <td>2/3/2017 2:16:10 AM</td>\n",
       "      <td>2003</td>\n",
       "      <td>Apples Pink Lady</td>\n",
       "      <td>0.16</td>\n",
       "      <td>cash</td>\n",
       "      <td>0.00</td>\n",
       "      <td>2.99</td>\n",
       "      <td>2.99</td>\n",
       "    </tr>\n",
       "  </tbody>\n",
       "</table>\n",
       "</div>"
      ],
      "text/plain": [
       "                             receipt_id                   date  item_code  \\\n",
       "0  4c4c9a80-b861-445e-9abc-6e70e84fd0d3  2/17/2017 12:17:17 AM       2003   \n",
       "1  65d59c3b-b474-482f-8779-3249d6fee305   2/2/2017 10:14:16 PM       2003   \n",
       "2  4443f4db-a5ba-4693-a6e1-70840ce6076e   2/21/2017 2:11:10 AM       2003   \n",
       "3  3399ecfd-f809-4653-9310-d41015e09f8a   1/10/2017 3:11:14 AM       2003   \n",
       "4  085663fa-1fde-4ffc-adfc-527599065a87    2/3/2017 2:16:10 AM       2003   \n",
       "\n",
       "          item_name  quantity payment_type  unit_buying_price  \\\n",
       "0  Apples Pink Lady      0.14         cash               0.00   \n",
       "1  Apples Pink Lady      0.15         cash               0.00   \n",
       "2  Apples Pink Lady      0.15         cash               0.00   \n",
       "3  Apples Pink Lady      0.15         cash               0.00   \n",
       "4  Apples Pink Lady      0.16         cash               0.00   \n",
       "\n",
       "   unit_selling_price  unit_price_margin  \n",
       "0                2.99               2.99  \n",
       "1                2.99               2.99  \n",
       "2                2.99               2.99  \n",
       "3                2.99               2.99  \n",
       "4                2.99               2.99  "
      ]
     },
     "execution_count": 3,
     "metadata": {},
     "output_type": "execute_result"
    }
   ],
   "source": [
    "# Import the \"Australian_Grocery_Store_Data_2017.csv\" and save it as a dataframe called trans_2017_df\n",
    "trans_2017_df= pd.read_csv(\"Australian_Grocery_Store_Data_2017.csv\")\n",
    "\n",
    "# Print the first 5 rows of trans_2017_df. You should see dates from the year 2017 present\n",
    "trans_2017_df.head(5)\n"
   ]
  },
  {
   "cell_type": "code",
   "execution_count": 4,
   "id": "a2ef7ca0",
   "metadata": {
    "scrolled": true
   },
   "outputs": [
    {
     "data": {
      "text/html": [
       "<div>\n",
       "<style scoped>\n",
       "    .dataframe tbody tr th:only-of-type {\n",
       "        vertical-align: middle;\n",
       "    }\n",
       "\n",
       "    .dataframe tbody tr th {\n",
       "        vertical-align: top;\n",
       "    }\n",
       "\n",
       "    .dataframe thead th {\n",
       "        text-align: right;\n",
       "    }\n",
       "</style>\n",
       "<table border=\"1\" class=\"dataframe\">\n",
       "  <thead>\n",
       "    <tr style=\"text-align: right;\">\n",
       "      <th></th>\n",
       "      <th>receipt_id</th>\n",
       "      <th>date</th>\n",
       "      <th>item_code</th>\n",
       "      <th>item_name</th>\n",
       "      <th>quantity</th>\n",
       "      <th>payment_type</th>\n",
       "      <th>unit_buying_price</th>\n",
       "      <th>unit_selling_price</th>\n",
       "      <th>unit_price_margin</th>\n",
       "    </tr>\n",
       "  </thead>\n",
       "  <tbody>\n",
       "    <tr>\n",
       "      <th>0</th>\n",
       "      <td>e07045cf-0ca3-4469-a3a5-e2ccb3e58bc8</td>\n",
       "      <td>4/9/2018 5:40:27 PM</td>\n",
       "      <td>9350212000017</td>\n",
       "      <td>Apple Granny Smith 1kg bag</td>\n",
       "      <td>2.00</td>\n",
       "      <td>cash</td>\n",
       "      <td>3.00</td>\n",
       "      <td>2.69</td>\n",
       "      <td>-0.31</td>\n",
       "    </tr>\n",
       "    <tr>\n",
       "      <th>1</th>\n",
       "      <td>680a9b08-c623-419a-a889-91e6db4eaddb</td>\n",
       "      <td>2/15/2018 4:19:49 PM</td>\n",
       "      <td>2003</td>\n",
       "      <td>Apples Pink Lady</td>\n",
       "      <td>0.13</td>\n",
       "      <td>cash</td>\n",
       "      <td>0.00</td>\n",
       "      <td>2.99</td>\n",
       "      <td>2.99</td>\n",
       "    </tr>\n",
       "    <tr>\n",
       "      <th>2</th>\n",
       "      <td>27bd758f-b646-4601-8c22-7243bed6d027</td>\n",
       "      <td>5/4/2018 1:02:21 PM</td>\n",
       "      <td>2003</td>\n",
       "      <td>Apples Pink Lady</td>\n",
       "      <td>0.13</td>\n",
       "      <td>cash</td>\n",
       "      <td>0.00</td>\n",
       "      <td>2.99</td>\n",
       "      <td>2.99</td>\n",
       "    </tr>\n",
       "    <tr>\n",
       "      <th>3</th>\n",
       "      <td>341b63d0-25d2-4751-be8d-d27f487bee19</td>\n",
       "      <td>5/17/2018 11:18:25 AM</td>\n",
       "      <td>2003</td>\n",
       "      <td>Apples Pink Lady</td>\n",
       "      <td>0.14</td>\n",
       "      <td>cash</td>\n",
       "      <td>0.00</td>\n",
       "      <td>2.99</td>\n",
       "      <td>2.99</td>\n",
       "    </tr>\n",
       "    <tr>\n",
       "      <th>4</th>\n",
       "      <td>0f3aad8c-60dd-45d6-a9fb-1b70f92563e0</td>\n",
       "      <td>7/17/2018 11:57:02 AM</td>\n",
       "      <td>2003</td>\n",
       "      <td>Apples Pink Lady</td>\n",
       "      <td>0.15</td>\n",
       "      <td>cash</td>\n",
       "      <td>0.00</td>\n",
       "      <td>2.99</td>\n",
       "      <td>2.99</td>\n",
       "    </tr>\n",
       "  </tbody>\n",
       "</table>\n",
       "</div>"
      ],
      "text/plain": [
       "                             receipt_id                   date      item_code  \\\n",
       "0  e07045cf-0ca3-4469-a3a5-e2ccb3e58bc8    4/9/2018 5:40:27 PM  9350212000017   \n",
       "1  680a9b08-c623-419a-a889-91e6db4eaddb   2/15/2018 4:19:49 PM           2003   \n",
       "2  27bd758f-b646-4601-8c22-7243bed6d027    5/4/2018 1:02:21 PM           2003   \n",
       "3  341b63d0-25d2-4751-be8d-d27f487bee19  5/17/2018 11:18:25 AM           2003   \n",
       "4  0f3aad8c-60dd-45d6-a9fb-1b70f92563e0  7/17/2018 11:57:02 AM           2003   \n",
       "\n",
       "                    item_name  quantity payment_type  unit_buying_price  \\\n",
       "0  Apple Granny Smith 1kg bag      2.00         cash               3.00   \n",
       "1            Apples Pink Lady      0.13         cash               0.00   \n",
       "2            Apples Pink Lady      0.13         cash               0.00   \n",
       "3            Apples Pink Lady      0.14         cash               0.00   \n",
       "4            Apples Pink Lady      0.15         cash               0.00   \n",
       "\n",
       "   unit_selling_price  unit_price_margin  \n",
       "0                2.69              -0.31  \n",
       "1                2.99               2.99  \n",
       "2                2.99               2.99  \n",
       "3                2.99               2.99  \n",
       "4                2.99               2.99  "
      ]
     },
     "execution_count": 4,
     "metadata": {},
     "output_type": "execute_result"
    }
   ],
   "source": [
    "# Import the \"Australian_Grocery_Store_Data_2018.csv\" and save it as a dataframe called trans_2018_df\n",
    "trans_2018_df=pd.read_csv(\"Australian_Grocery_Store_Data_2018.csv\")\n",
    "\n",
    "# Print the first 5 rows of trans_2018_df. You should see dates from the year 2018 present\n",
    "trans_2018_df.head(5)"
   ]
  },
  {
   "cell_type": "code",
   "execution_count": 5,
   "id": "f2c39daa",
   "metadata": {},
   "outputs": [
    {
     "data": {
      "text/html": [
       "<div>\n",
       "<style scoped>\n",
       "    .dataframe tbody tr th:only-of-type {\n",
       "        vertical-align: middle;\n",
       "    }\n",
       "\n",
       "    .dataframe tbody tr th {\n",
       "        vertical-align: top;\n",
       "    }\n",
       "\n",
       "    .dataframe thead th {\n",
       "        text-align: right;\n",
       "    }\n",
       "</style>\n",
       "<table border=\"1\" class=\"dataframe\">\n",
       "  <thead>\n",
       "    <tr style=\"text-align: right;\">\n",
       "      <th></th>\n",
       "      <th>receipt_id</th>\n",
       "      <th>date</th>\n",
       "      <th>item_code</th>\n",
       "      <th>item_name</th>\n",
       "      <th>quantity</th>\n",
       "      <th>payment_type</th>\n",
       "      <th>unit_buying_price</th>\n",
       "      <th>unit_selling_price</th>\n",
       "      <th>unit_price_margin</th>\n",
       "    </tr>\n",
       "  </thead>\n",
       "  <tbody>\n",
       "    <tr>\n",
       "      <th>0</th>\n",
       "      <td>4c4c9a80-b861-445e-9abc-6e70e84fd0d3</td>\n",
       "      <td>2/17/2017 12:17:17 AM</td>\n",
       "      <td>2003</td>\n",
       "      <td>Apples Pink Lady</td>\n",
       "      <td>0.14</td>\n",
       "      <td>cash</td>\n",
       "      <td>0.00</td>\n",
       "      <td>2.99</td>\n",
       "      <td>2.99</td>\n",
       "    </tr>\n",
       "    <tr>\n",
       "      <th>1</th>\n",
       "      <td>65d59c3b-b474-482f-8779-3249d6fee305</td>\n",
       "      <td>2/2/2017 10:14:16 PM</td>\n",
       "      <td>2003</td>\n",
       "      <td>Apples Pink Lady</td>\n",
       "      <td>0.15</td>\n",
       "      <td>cash</td>\n",
       "      <td>0.00</td>\n",
       "      <td>2.99</td>\n",
       "      <td>2.99</td>\n",
       "    </tr>\n",
       "    <tr>\n",
       "      <th>2</th>\n",
       "      <td>4443f4db-a5ba-4693-a6e1-70840ce6076e</td>\n",
       "      <td>2/21/2017 2:11:10 AM</td>\n",
       "      <td>2003</td>\n",
       "      <td>Apples Pink Lady</td>\n",
       "      <td>0.15</td>\n",
       "      <td>cash</td>\n",
       "      <td>0.00</td>\n",
       "      <td>2.99</td>\n",
       "      <td>2.99</td>\n",
       "    </tr>\n",
       "    <tr>\n",
       "      <th>3</th>\n",
       "      <td>3399ecfd-f809-4653-9310-d41015e09f8a</td>\n",
       "      <td>1/10/2017 3:11:14 AM</td>\n",
       "      <td>2003</td>\n",
       "      <td>Apples Pink Lady</td>\n",
       "      <td>0.15</td>\n",
       "      <td>cash</td>\n",
       "      <td>0.00</td>\n",
       "      <td>2.99</td>\n",
       "      <td>2.99</td>\n",
       "    </tr>\n",
       "    <tr>\n",
       "      <th>4</th>\n",
       "      <td>085663fa-1fde-4ffc-adfc-527599065a87</td>\n",
       "      <td>2/3/2017 2:16:10 AM</td>\n",
       "      <td>2003</td>\n",
       "      <td>Apples Pink Lady</td>\n",
       "      <td>0.16</td>\n",
       "      <td>cash</td>\n",
       "      <td>0.00</td>\n",
       "      <td>2.99</td>\n",
       "      <td>2.99</td>\n",
       "    </tr>\n",
       "  </tbody>\n",
       "</table>\n",
       "</div>"
      ],
      "text/plain": [
       "                             receipt_id                   date  item_code  \\\n",
       "0  4c4c9a80-b861-445e-9abc-6e70e84fd0d3  2/17/2017 12:17:17 AM       2003   \n",
       "1  65d59c3b-b474-482f-8779-3249d6fee305   2/2/2017 10:14:16 PM       2003   \n",
       "2  4443f4db-a5ba-4693-a6e1-70840ce6076e   2/21/2017 2:11:10 AM       2003   \n",
       "3  3399ecfd-f809-4653-9310-d41015e09f8a   1/10/2017 3:11:14 AM       2003   \n",
       "4  085663fa-1fde-4ffc-adfc-527599065a87    2/3/2017 2:16:10 AM       2003   \n",
       "\n",
       "          item_name  quantity payment_type  unit_buying_price  \\\n",
       "0  Apples Pink Lady      0.14         cash               0.00   \n",
       "1  Apples Pink Lady      0.15         cash               0.00   \n",
       "2  Apples Pink Lady      0.15         cash               0.00   \n",
       "3  Apples Pink Lady      0.15         cash               0.00   \n",
       "4  Apples Pink Lady      0.16         cash               0.00   \n",
       "\n",
       "   unit_selling_price  unit_price_margin  \n",
       "0                2.99               2.99  \n",
       "1                2.99               2.99  \n",
       "2                2.99               2.99  \n",
       "3                2.99               2.99  \n",
       "4                2.99               2.99  "
      ]
     },
     "execution_count": 5,
     "metadata": {},
     "output_type": "execute_result"
    }
   ],
   "source": [
    "# Concatenate trans_2017_df and trans_2018_df to make a dataframe called all_trans_df (Remember to set ignore index to True)\n",
    "all_trans_df=pd.concat([trans_2017_df, trans_2018_df], ignore_index = True)\n",
    "\n",
    "# Print the first 5 rows of trans_df\n",
    "all_trans_df.head(5)"
   ]
  },
  {
   "cell_type": "code",
   "execution_count": 6,
   "id": "7d0c93a5",
   "metadata": {},
   "outputs": [
    {
     "data": {
      "text/html": [
       "<div>\n",
       "<style scoped>\n",
       "    .dataframe tbody tr th:only-of-type {\n",
       "        vertical-align: middle;\n",
       "    }\n",
       "\n",
       "    .dataframe tbody tr th {\n",
       "        vertical-align: top;\n",
       "    }\n",
       "\n",
       "    .dataframe thead th {\n",
       "        text-align: right;\n",
       "    }\n",
       "</style>\n",
       "<table border=\"1\" class=\"dataframe\">\n",
       "  <thead>\n",
       "    <tr style=\"text-align: right;\">\n",
       "      <th></th>\n",
       "      <th>item_name</th>\n",
       "      <th>main_category</th>\n",
       "      <th>sub_category</th>\n",
       "    </tr>\n",
       "  </thead>\n",
       "  <tbody>\n",
       "    <tr>\n",
       "      <th>0</th>\n",
       "      <td>2kg Royal gala apple</td>\n",
       "      <td>Fresh Produce</td>\n",
       "      <td>Apples</td>\n",
       "    </tr>\n",
       "    <tr>\n",
       "      <th>1</th>\n",
       "      <td>Apple Granny Smith 1kg bag</td>\n",
       "      <td>Fresh Produce</td>\n",
       "      <td>Apples</td>\n",
       "    </tr>\n",
       "    <tr>\n",
       "      <th>2</th>\n",
       "      <td>Apple Granny smith 2kg Bags</td>\n",
       "      <td>Fresh Produce</td>\n",
       "      <td>Apples</td>\n",
       "    </tr>\n",
       "    <tr>\n",
       "      <th>3</th>\n",
       "      <td>apple Jazz</td>\n",
       "      <td>Fresh Produce</td>\n",
       "      <td>Apples</td>\n",
       "    </tr>\n",
       "    <tr>\n",
       "      <th>4</th>\n",
       "      <td>Apple Jonathan</td>\n",
       "      <td>Fresh Produce</td>\n",
       "      <td>Apples</td>\n",
       "    </tr>\n",
       "    <tr>\n",
       "      <th>5</th>\n",
       "      <td>Apple pink lady 1kg Punnet</td>\n",
       "      <td>Fresh Produce</td>\n",
       "      <td>Apples</td>\n",
       "    </tr>\n",
       "    <tr>\n",
       "      <th>6</th>\n",
       "      <td>apple pink lady 2kg</td>\n",
       "      <td>Fresh Produce</td>\n",
       "      <td>Apples</td>\n",
       "    </tr>\n",
       "    <tr>\n",
       "      <th>7</th>\n",
       "      <td>Apples Fuji</td>\n",
       "      <td>Fresh Produce</td>\n",
       "      <td>Apples</td>\n",
       "    </tr>\n",
       "    <tr>\n",
       "      <th>8</th>\n",
       "      <td>Apples Golden Delicious</td>\n",
       "      <td>Fresh Produce</td>\n",
       "      <td>Apples</td>\n",
       "    </tr>\n",
       "    <tr>\n",
       "      <th>9</th>\n",
       "      <td>Apples Granny Smith</td>\n",
       "      <td>Fresh Produce</td>\n",
       "      <td>Apples</td>\n",
       "    </tr>\n",
       "  </tbody>\n",
       "</table>\n",
       "</div>"
      ],
      "text/plain": [
       "                     item_name  main_category sub_category\n",
       "0         2kg Royal gala apple  Fresh Produce       Apples\n",
       "1   Apple Granny Smith 1kg bag  Fresh Produce       Apples\n",
       "2  Apple Granny smith 2kg Bags  Fresh Produce       Apples\n",
       "3                   apple Jazz  Fresh Produce       Apples\n",
       "4               Apple Jonathan  Fresh Produce       Apples\n",
       "5   Apple pink lady 1kg Punnet  Fresh Produce       Apples\n",
       "6          apple pink lady 2kg  Fresh Produce       Apples\n",
       "7                  Apples Fuji  Fresh Produce       Apples\n",
       "8      Apples Golden Delicious  Fresh Produce       Apples\n",
       "9          Apples Granny Smith  Fresh Produce       Apples"
      ]
     },
     "execution_count": 6,
     "metadata": {},
     "output_type": "execute_result"
    }
   ],
   "source": [
    "# We need to add a category column to the current \"trans_df\" dataset\n",
    "\n",
    "# Import \"Australian_Grocery_Store_Data_Only_Items_Categories.csv\" and save it as \"item_categories_df\" \n",
    "item_categories_df=pd.read_csv(\"Australian_Grocery_Store_Data_Only_Items_Categories.csv\")\n",
    "\n",
    "# Print the first 10 Rows\n",
    "item_categories_df.head(10)"
   ]
  },
  {
   "cell_type": "code",
   "execution_count": 7,
   "id": "8ed20f9b",
   "metadata": {},
   "outputs": [
    {
     "data": {
      "text/html": [
       "<div>\n",
       "<style scoped>\n",
       "    .dataframe tbody tr th:only-of-type {\n",
       "        vertical-align: middle;\n",
       "    }\n",
       "\n",
       "    .dataframe tbody tr th {\n",
       "        vertical-align: top;\n",
       "    }\n",
       "\n",
       "    .dataframe thead th {\n",
       "        text-align: right;\n",
       "    }\n",
       "</style>\n",
       "<table border=\"1\" class=\"dataframe\">\n",
       "  <thead>\n",
       "    <tr style=\"text-align: right;\">\n",
       "      <th></th>\n",
       "      <th>receipt_id</th>\n",
       "      <th>date</th>\n",
       "      <th>item_code</th>\n",
       "      <th>item_name</th>\n",
       "      <th>quantity</th>\n",
       "      <th>payment_type</th>\n",
       "      <th>unit_buying_price</th>\n",
       "      <th>unit_selling_price</th>\n",
       "      <th>unit_price_margin</th>\n",
       "      <th>main_category</th>\n",
       "      <th>sub_category</th>\n",
       "    </tr>\n",
       "  </thead>\n",
       "  <tbody>\n",
       "    <tr>\n",
       "      <th>0</th>\n",
       "      <td>4c4c9a80-b861-445e-9abc-6e70e84fd0d3</td>\n",
       "      <td>2/17/2017 12:17:17 AM</td>\n",
       "      <td>2003</td>\n",
       "      <td>Apples Pink Lady</td>\n",
       "      <td>0.14</td>\n",
       "      <td>cash</td>\n",
       "      <td>0.00</td>\n",
       "      <td>2.99</td>\n",
       "      <td>2.99</td>\n",
       "      <td>Fresh Produce</td>\n",
       "      <td>Apples</td>\n",
       "    </tr>\n",
       "    <tr>\n",
       "      <th>1</th>\n",
       "      <td>65d59c3b-b474-482f-8779-3249d6fee305</td>\n",
       "      <td>2/2/2017 10:14:16 PM</td>\n",
       "      <td>2003</td>\n",
       "      <td>Apples Pink Lady</td>\n",
       "      <td>0.15</td>\n",
       "      <td>cash</td>\n",
       "      <td>0.00</td>\n",
       "      <td>2.99</td>\n",
       "      <td>2.99</td>\n",
       "      <td>Fresh Produce</td>\n",
       "      <td>Apples</td>\n",
       "    </tr>\n",
       "    <tr>\n",
       "      <th>2</th>\n",
       "      <td>4443f4db-a5ba-4693-a6e1-70840ce6076e</td>\n",
       "      <td>2/21/2017 2:11:10 AM</td>\n",
       "      <td>2003</td>\n",
       "      <td>Apples Pink Lady</td>\n",
       "      <td>0.15</td>\n",
       "      <td>cash</td>\n",
       "      <td>0.00</td>\n",
       "      <td>2.99</td>\n",
       "      <td>2.99</td>\n",
       "      <td>Fresh Produce</td>\n",
       "      <td>Apples</td>\n",
       "    </tr>\n",
       "    <tr>\n",
       "      <th>3</th>\n",
       "      <td>3399ecfd-f809-4653-9310-d41015e09f8a</td>\n",
       "      <td>1/10/2017 3:11:14 AM</td>\n",
       "      <td>2003</td>\n",
       "      <td>Apples Pink Lady</td>\n",
       "      <td>0.15</td>\n",
       "      <td>cash</td>\n",
       "      <td>0.00</td>\n",
       "      <td>2.99</td>\n",
       "      <td>2.99</td>\n",
       "      <td>Fresh Produce</td>\n",
       "      <td>Apples</td>\n",
       "    </tr>\n",
       "    <tr>\n",
       "      <th>4</th>\n",
       "      <td>085663fa-1fde-4ffc-adfc-527599065a87</td>\n",
       "      <td>2/3/2017 2:16:10 AM</td>\n",
       "      <td>2003</td>\n",
       "      <td>Apples Pink Lady</td>\n",
       "      <td>0.16</td>\n",
       "      <td>cash</td>\n",
       "      <td>0.00</td>\n",
       "      <td>2.99</td>\n",
       "      <td>2.99</td>\n",
       "      <td>Fresh Produce</td>\n",
       "      <td>Apples</td>\n",
       "    </tr>\n",
       "  </tbody>\n",
       "</table>\n",
       "</div>"
      ],
      "text/plain": [
       "                             receipt_id                   date  item_code  \\\n",
       "0  4c4c9a80-b861-445e-9abc-6e70e84fd0d3  2/17/2017 12:17:17 AM       2003   \n",
       "1  65d59c3b-b474-482f-8779-3249d6fee305   2/2/2017 10:14:16 PM       2003   \n",
       "2  4443f4db-a5ba-4693-a6e1-70840ce6076e   2/21/2017 2:11:10 AM       2003   \n",
       "3  3399ecfd-f809-4653-9310-d41015e09f8a   1/10/2017 3:11:14 AM       2003   \n",
       "4  085663fa-1fde-4ffc-adfc-527599065a87    2/3/2017 2:16:10 AM       2003   \n",
       "\n",
       "          item_name  quantity payment_type  unit_buying_price  \\\n",
       "0  Apples Pink Lady      0.14         cash               0.00   \n",
       "1  Apples Pink Lady      0.15         cash               0.00   \n",
       "2  Apples Pink Lady      0.15         cash               0.00   \n",
       "3  Apples Pink Lady      0.15         cash               0.00   \n",
       "4  Apples Pink Lady      0.16         cash               0.00   \n",
       "\n",
       "   unit_selling_price  unit_price_margin  main_category sub_category  \n",
       "0                2.99               2.99  Fresh Produce       Apples  \n",
       "1                2.99               2.99  Fresh Produce       Apples  \n",
       "2                2.99               2.99  Fresh Produce       Apples  \n",
       "3                2.99               2.99  Fresh Produce       Apples  \n",
       "4                2.99               2.99  Fresh Produce       Apples  "
      ]
     },
     "execution_count": 7,
     "metadata": {},
     "output_type": "execute_result"
    }
   ],
   "source": [
    "# Join/Merge all_trans_df to item_categories_df to create a dataframe called trans_df\n",
    "# Note: Ensure no rows are dropped from trans_df \n",
    "trans_df=pd.merge(all_trans_df, item_categories_df,how=\"left\",on=[\"item_name\"])\n",
    "\n",
    "# Print the first 5 rows of trans_df. There should be two new columns: main_category and sub_category\n",
    "trans_df.head(5)"
   ]
  },
  {
   "cell_type": "code",
   "execution_count": 8,
   "id": "4213787a",
   "metadata": {},
   "outputs": [
    {
     "data": {
      "text/plain": [
       "372757"
      ]
     },
     "execution_count": 8,
     "metadata": {},
     "output_type": "execute_result"
    }
   ],
   "source": [
    "# Create and print a variable called \"total_rows\" that tells us How many rows in total are present in trans_df\n",
    "# You should have 372,757 rows. If not, there is an error in the join you did above\n",
    "total_rows = len(trans_df)\n",
    "total_rows"
   ]
  },
  {
   "cell_type": "markdown",
   "id": "cf1b7e53",
   "metadata": {},
   "source": [
    "# Part 3: Cleaning the Data (5 Marks)"
   ]
  },
  {
   "cell_type": "code",
   "execution_count": 9,
   "id": "feff4da4",
   "metadata": {
    "scrolled": false
   },
   "outputs": [
    {
     "data": {
      "text/html": [
       "<div>\n",
       "<style scoped>\n",
       "    .dataframe tbody tr th:only-of-type {\n",
       "        vertical-align: middle;\n",
       "    }\n",
       "\n",
       "    .dataframe tbody tr th {\n",
       "        vertical-align: top;\n",
       "    }\n",
       "\n",
       "    .dataframe thead th {\n",
       "        text-align: right;\n",
       "    }\n",
       "</style>\n",
       "<table border=\"1\" class=\"dataframe\">\n",
       "  <thead>\n",
       "    <tr style=\"text-align: right;\">\n",
       "      <th></th>\n",
       "      <th>receipt_id</th>\n",
       "      <th>date</th>\n",
       "      <th>item_code</th>\n",
       "      <th>item_name</th>\n",
       "      <th>quantity</th>\n",
       "      <th>payment_type</th>\n",
       "      <th>unit_buying_price</th>\n",
       "      <th>unit_selling_price</th>\n",
       "      <th>unit_price_margin</th>\n",
       "      <th>main_category</th>\n",
       "      <th>sub_category</th>\n",
       "    </tr>\n",
       "  </thead>\n",
       "  <tbody>\n",
       "    <tr>\n",
       "      <th>0</th>\n",
       "      <td>4c4c9a80-b861-445e-9abc-6e70e84fd0d3</td>\n",
       "      <td>2/17/2017 12:17:17 AM</td>\n",
       "      <td>2003</td>\n",
       "      <td>Apples Pink Lady</td>\n",
       "      <td>0.14</td>\n",
       "      <td>Cash</td>\n",
       "      <td>0.00</td>\n",
       "      <td>2.99</td>\n",
       "      <td>2.99</td>\n",
       "      <td>Fresh Produce</td>\n",
       "      <td>Apples</td>\n",
       "    </tr>\n",
       "    <tr>\n",
       "      <th>1</th>\n",
       "      <td>65d59c3b-b474-482f-8779-3249d6fee305</td>\n",
       "      <td>2/2/2017 10:14:16 PM</td>\n",
       "      <td>2003</td>\n",
       "      <td>Apples Pink Lady</td>\n",
       "      <td>0.15</td>\n",
       "      <td>Cash</td>\n",
       "      <td>0.00</td>\n",
       "      <td>2.99</td>\n",
       "      <td>2.99</td>\n",
       "      <td>Fresh Produce</td>\n",
       "      <td>Apples</td>\n",
       "    </tr>\n",
       "    <tr>\n",
       "      <th>2</th>\n",
       "      <td>4443f4db-a5ba-4693-a6e1-70840ce6076e</td>\n",
       "      <td>2/21/2017 2:11:10 AM</td>\n",
       "      <td>2003</td>\n",
       "      <td>Apples Pink Lady</td>\n",
       "      <td>0.15</td>\n",
       "      <td>Cash</td>\n",
       "      <td>0.00</td>\n",
       "      <td>2.99</td>\n",
       "      <td>2.99</td>\n",
       "      <td>Fresh Produce</td>\n",
       "      <td>Apples</td>\n",
       "    </tr>\n",
       "    <tr>\n",
       "      <th>3</th>\n",
       "      <td>3399ecfd-f809-4653-9310-d41015e09f8a</td>\n",
       "      <td>1/10/2017 3:11:14 AM</td>\n",
       "      <td>2003</td>\n",
       "      <td>Apples Pink Lady</td>\n",
       "      <td>0.15</td>\n",
       "      <td>Cash</td>\n",
       "      <td>0.00</td>\n",
       "      <td>2.99</td>\n",
       "      <td>2.99</td>\n",
       "      <td>Fresh Produce</td>\n",
       "      <td>Apples</td>\n",
       "    </tr>\n",
       "    <tr>\n",
       "      <th>4</th>\n",
       "      <td>085663fa-1fde-4ffc-adfc-527599065a87</td>\n",
       "      <td>2/3/2017 2:16:10 AM</td>\n",
       "      <td>2003</td>\n",
       "      <td>Apples Pink Lady</td>\n",
       "      <td>0.16</td>\n",
       "      <td>Cash</td>\n",
       "      <td>0.00</td>\n",
       "      <td>2.99</td>\n",
       "      <td>2.99</td>\n",
       "      <td>Fresh Produce</td>\n",
       "      <td>Apples</td>\n",
       "    </tr>\n",
       "  </tbody>\n",
       "</table>\n",
       "</div>"
      ],
      "text/plain": [
       "                             receipt_id                   date  item_code  \\\n",
       "0  4c4c9a80-b861-445e-9abc-6e70e84fd0d3  2/17/2017 12:17:17 AM       2003   \n",
       "1  65d59c3b-b474-482f-8779-3249d6fee305   2/2/2017 10:14:16 PM       2003   \n",
       "2  4443f4db-a5ba-4693-a6e1-70840ce6076e   2/21/2017 2:11:10 AM       2003   \n",
       "3  3399ecfd-f809-4653-9310-d41015e09f8a   1/10/2017 3:11:14 AM       2003   \n",
       "4  085663fa-1fde-4ffc-adfc-527599065a87    2/3/2017 2:16:10 AM       2003   \n",
       "\n",
       "          item_name  quantity payment_type  unit_buying_price  \\\n",
       "0  Apples Pink Lady      0.14         Cash               0.00   \n",
       "1  Apples Pink Lady      0.15         Cash               0.00   \n",
       "2  Apples Pink Lady      0.15         Cash               0.00   \n",
       "3  Apples Pink Lady      0.15         Cash               0.00   \n",
       "4  Apples Pink Lady      0.16         Cash               0.00   \n",
       "\n",
       "   unit_selling_price  unit_price_margin  main_category sub_category  \n",
       "0                2.99               2.99  Fresh Produce       Apples  \n",
       "1                2.99               2.99  Fresh Produce       Apples  \n",
       "2                2.99               2.99  Fresh Produce       Apples  \n",
       "3                2.99               2.99  Fresh Produce       Apples  \n",
       "4                2.99               2.99  Fresh Produce       Apples  "
      ]
     },
     "execution_count": 9,
     "metadata": {},
     "output_type": "execute_result"
    }
   ],
   "source": [
    "# Make the following columns(item_name, main_category, sub_category, payment_type) follow Title Case aka first letter of each word is Capital)\n",
    "trans_df[\"item_name\"]=trans_df[\"item_name\"].str.title()\n",
    "trans_df[\"main_category\"]=trans_df[\"main_category\"].str.title()\n",
    "trans_df[\"sub_category\"]=trans_df[\"sub_category\"].str.title()\n",
    "trans_df[\"payment_type\"]=trans_df[\"payment_type\"].str.title()\n",
    "# Print the first 5 rows of trans_df to show that the Title Case changes have been applied\n",
    "trans_df.head(5)"
   ]
  },
  {
   "cell_type": "markdown",
   "id": "c4577428",
   "metadata": {},
   "source": [
    "# Part 4: Adding Columns (10 Marks)"
   ]
  },
  {
   "cell_type": "markdown",
   "id": "64b98ce4",
   "metadata": {},
   "source": [
    "## Adding Columns Using Arithmetic Operators (2 Marks)"
   ]
  },
  {
   "cell_type": "code",
   "execution_count": 10,
   "id": "92edda6a",
   "metadata": {
    "scrolled": true
   },
   "outputs": [
    {
     "data": {
      "text/html": [
       "<div>\n",
       "<style scoped>\n",
       "    .dataframe tbody tr th:only-of-type {\n",
       "        vertical-align: middle;\n",
       "    }\n",
       "\n",
       "    .dataframe tbody tr th {\n",
       "        vertical-align: top;\n",
       "    }\n",
       "\n",
       "    .dataframe thead th {\n",
       "        text-align: right;\n",
       "    }\n",
       "</style>\n",
       "<table border=\"1\" class=\"dataframe\">\n",
       "  <thead>\n",
       "    <tr style=\"text-align: right;\">\n",
       "      <th></th>\n",
       "      <th>receipt_id</th>\n",
       "      <th>date</th>\n",
       "      <th>item_code</th>\n",
       "      <th>item_name</th>\n",
       "      <th>quantity</th>\n",
       "      <th>payment_type</th>\n",
       "      <th>unit_buying_price</th>\n",
       "      <th>unit_selling_price</th>\n",
       "      <th>unit_price_margin</th>\n",
       "      <th>main_category</th>\n",
       "      <th>sub_category</th>\n",
       "      <th>total_buying_price</th>\n",
       "      <th>total_selling_price</th>\n",
       "      <th>total_margin</th>\n",
       "    </tr>\n",
       "  </thead>\n",
       "  <tbody>\n",
       "    <tr>\n",
       "      <th>0</th>\n",
       "      <td>4c4c9a80-b861-445e-9abc-6e70e84fd0d3</td>\n",
       "      <td>2/17/2017 12:17:17 AM</td>\n",
       "      <td>2003</td>\n",
       "      <td>Apples Pink Lady</td>\n",
       "      <td>0.14</td>\n",
       "      <td>Cash</td>\n",
       "      <td>0.00</td>\n",
       "      <td>2.99</td>\n",
       "      <td>2.99</td>\n",
       "      <td>Fresh Produce</td>\n",
       "      <td>Apples</td>\n",
       "      <td>0.00</td>\n",
       "      <td>0.42</td>\n",
       "      <td>0.42</td>\n",
       "    </tr>\n",
       "    <tr>\n",
       "      <th>1</th>\n",
       "      <td>65d59c3b-b474-482f-8779-3249d6fee305</td>\n",
       "      <td>2/2/2017 10:14:16 PM</td>\n",
       "      <td>2003</td>\n",
       "      <td>Apples Pink Lady</td>\n",
       "      <td>0.15</td>\n",
       "      <td>Cash</td>\n",
       "      <td>0.00</td>\n",
       "      <td>2.99</td>\n",
       "      <td>2.99</td>\n",
       "      <td>Fresh Produce</td>\n",
       "      <td>Apples</td>\n",
       "      <td>0.00</td>\n",
       "      <td>0.44</td>\n",
       "      <td>0.44</td>\n",
       "    </tr>\n",
       "    <tr>\n",
       "      <th>2</th>\n",
       "      <td>4443f4db-a5ba-4693-a6e1-70840ce6076e</td>\n",
       "      <td>2/21/2017 2:11:10 AM</td>\n",
       "      <td>2003</td>\n",
       "      <td>Apples Pink Lady</td>\n",
       "      <td>0.15</td>\n",
       "      <td>Cash</td>\n",
       "      <td>0.00</td>\n",
       "      <td>2.99</td>\n",
       "      <td>2.99</td>\n",
       "      <td>Fresh Produce</td>\n",
       "      <td>Apples</td>\n",
       "      <td>0.00</td>\n",
       "      <td>0.45</td>\n",
       "      <td>0.45</td>\n",
       "    </tr>\n",
       "    <tr>\n",
       "      <th>3</th>\n",
       "      <td>3399ecfd-f809-4653-9310-d41015e09f8a</td>\n",
       "      <td>1/10/2017 3:11:14 AM</td>\n",
       "      <td>2003</td>\n",
       "      <td>Apples Pink Lady</td>\n",
       "      <td>0.15</td>\n",
       "      <td>Cash</td>\n",
       "      <td>0.00</td>\n",
       "      <td>2.99</td>\n",
       "      <td>2.99</td>\n",
       "      <td>Fresh Produce</td>\n",
       "      <td>Apples</td>\n",
       "      <td>0.00</td>\n",
       "      <td>0.45</td>\n",
       "      <td>0.45</td>\n",
       "    </tr>\n",
       "    <tr>\n",
       "      <th>4</th>\n",
       "      <td>085663fa-1fde-4ffc-adfc-527599065a87</td>\n",
       "      <td>2/3/2017 2:16:10 AM</td>\n",
       "      <td>2003</td>\n",
       "      <td>Apples Pink Lady</td>\n",
       "      <td>0.16</td>\n",
       "      <td>Cash</td>\n",
       "      <td>0.00</td>\n",
       "      <td>2.99</td>\n",
       "      <td>2.99</td>\n",
       "      <td>Fresh Produce</td>\n",
       "      <td>Apples</td>\n",
       "      <td>0.00</td>\n",
       "      <td>0.48</td>\n",
       "      <td>0.48</td>\n",
       "    </tr>\n",
       "  </tbody>\n",
       "</table>\n",
       "</div>"
      ],
      "text/plain": [
       "                             receipt_id                   date  item_code  \\\n",
       "0  4c4c9a80-b861-445e-9abc-6e70e84fd0d3  2/17/2017 12:17:17 AM       2003   \n",
       "1  65d59c3b-b474-482f-8779-3249d6fee305   2/2/2017 10:14:16 PM       2003   \n",
       "2  4443f4db-a5ba-4693-a6e1-70840ce6076e   2/21/2017 2:11:10 AM       2003   \n",
       "3  3399ecfd-f809-4653-9310-d41015e09f8a   1/10/2017 3:11:14 AM       2003   \n",
       "4  085663fa-1fde-4ffc-adfc-527599065a87    2/3/2017 2:16:10 AM       2003   \n",
       "\n",
       "          item_name  quantity payment_type  unit_buying_price  \\\n",
       "0  Apples Pink Lady      0.14         Cash               0.00   \n",
       "1  Apples Pink Lady      0.15         Cash               0.00   \n",
       "2  Apples Pink Lady      0.15         Cash               0.00   \n",
       "3  Apples Pink Lady      0.15         Cash               0.00   \n",
       "4  Apples Pink Lady      0.16         Cash               0.00   \n",
       "\n",
       "   unit_selling_price  unit_price_margin  main_category sub_category  \\\n",
       "0                2.99               2.99  Fresh Produce       Apples   \n",
       "1                2.99               2.99  Fresh Produce       Apples   \n",
       "2                2.99               2.99  Fresh Produce       Apples   \n",
       "3                2.99               2.99  Fresh Produce       Apples   \n",
       "4                2.99               2.99  Fresh Produce       Apples   \n",
       "\n",
       "   total_buying_price  total_selling_price  total_margin  \n",
       "0                0.00                 0.42          0.42  \n",
       "1                0.00                 0.44          0.44  \n",
       "2                0.00                 0.45          0.45  \n",
       "3                0.00                 0.45          0.45  \n",
       "4                0.00                 0.48          0.48  "
      ]
     },
     "execution_count": 10,
     "metadata": {},
     "output_type": "execute_result"
    }
   ],
   "source": [
    "# Add a column called \"total_buying_price\" (Formula: unit_buying_price * quantity)\n",
    "trans_df[\"total_buying_price\"]=trans_df[\"unit_buying_price\"] * trans_df[\"quantity\"]\n",
    "\n",
    "# Add a column called \"total_selling price\" (Formula: unit_selling_price * quantity)\n",
    "trans_df[\"total_selling_price\"]=trans_df[\"unit_selling_price\"] * trans_df[\"quantity\"]\n",
    "\n",
    "# Add a column called \"total_margin\" (Formula: unit_price_margin * quantity)\n",
    "trans_df[\"total_margin\"]=trans_df[\"unit_price_margin\"] * trans_df[\"quantity\"]\n",
    "\n",
    "# Print the first 5 rows of trans_df to show that these columns have been added\n",
    "trans_df.head(5)\n",
    "\n",
    "\n"
   ]
  },
  {
   "cell_type": "markdown",
   "id": "22db466a",
   "metadata": {},
   "source": [
    "## Adding Time Columns (5 Marks)"
   ]
  },
  {
   "cell_type": "code",
   "execution_count": null,
   "id": "d4a167bd",
   "metadata": {},
   "outputs": [],
   "source": [
    "# Convert the date column into date_time type\n",
    "trans_df[\"date\"]=pd.to_datetime(trans_df[\"date\"])\n",
    "\n",
    "# Create a column called \"year\" based on the date column\n",
    "trans_df[\"year\"]=trans_df[\"date\"].dt.year\n",
    "     \n",
    "# Create a column called \"quarter\" based on the date column\n",
    "trans_df[\"quarter\"]=trans_df[\"date\"].dt.quarter\n",
    "\n",
    "# Create a column called \"month\" based on the date column\n",
    "trans_df[\"month\"]=trans_df[\"date\"].dt.month_name()\n",
    "\n",
    "# Create a column called \"day_of_week\" based on the date column\n",
    "trans_df[\"day_of_week\"]=trans_df[\"date\"].dt.day_name()\n",
    "\n",
    "# Create a column called \"hour_of_day\" based on the date column\n",
    "trans_df[\"hour_of_day\"]=trans_df[\"date\"].dt.hour\n",
    "\n",
    "# Print your dataframe to show these columns were added in\n",
    "trans_df"
   ]
  },
  {
   "cell_type": "markdown",
   "id": "9bfae3ab",
   "metadata": {},
   "source": [
    "## Adding a Column Based on Conditions (3 Marks)"
   ]
  },
  {
   "cell_type": "code",
   "execution_count": null,
   "id": "50b21367",
   "metadata": {
    "scrolled": true
   },
   "outputs": [],
   "source": [
    "# Create a column called \"quantity_type\" which has a value of: \n",
    "    # \"Single\" if the quantity is less than or equal to 1.100\n",
    "    # \"Regular\" if the quantity is above 1.100 and below 10 \n",
    "    # \"Bulk if equal to or above 10\n",
    "trans_df.loc[trans_df[\"quantity\"]<=1.100 , \"quantity_type\"] = \"single\"\n",
    "trans_df.loc[(trans_df[\"quantity\"]>=1.100) & (trans_df[\"quantity\"]<10),\"quantity_type\"] = \"regular\"\n",
    "trans_df.loc[trans_df[\"quantity\"]>=10 , \"quantity_type\"] = \"bulk\"\n",
    "    \n",
    "    \n",
    "    \n",
    "\n",
    "# Print the first five rows of trans_df to show that these columns were added in\n",
    "trans_df.head(5)"
   ]
  },
  {
   "cell_type": "code",
   "execution_count": null,
   "id": "8dbc3bc8",
   "metadata": {},
   "outputs": [],
   "source": [
    "# Save \"trans_df\" as a csv file in your folder as \"all_transactions.csv\"\n",
    "trans_df.to_csv(\"all_transactions.csv\")"
   ]
  },
  {
   "cell_type": "markdown",
   "id": "77fe489a",
   "metadata": {},
   "source": [
    "# Part 5: Overall Business Analysis (10 Marks)"
   ]
  },
  {
   "cell_type": "code",
   "execution_count": null,
   "id": "e5793c78",
   "metadata": {},
   "outputs": [],
   "source": [
    "# Using the Group By and Agg Pandas Function\n",
    "# Create a dataframe using \"trans_df\" called \"year_df\" that has the following columns: \n",
    "    # year\n",
    "    # transactions (Unique Count of Receipt ID)...Hint: Use \"nunique\" instead of \"count\"\n",
    "    # investment(Sum of Total Buying Price)\n",
    "    # revenue (Sum of Total Selling Price)\n",
    "    # profit (Sum of Total Margin)\n",
    "    \n",
    "year_df = trans_df.groupby([\"year\"]).agg(transactions=(\"receipt_id\",\"nunique\"),\n",
    "                                         investment=(\"total_buying_price\",\"sum\"),\n",
    "                                         revenue=(\"total_selling_price\",\"sum\"),\n",
    "                                         profit=(\"total_margin\",\"sum\"))\n",
    "year_df    "
   ]
  },
  {
   "cell_type": "code",
   "execution_count": null,
   "id": "76ada655",
   "metadata": {},
   "outputs": [],
   "source": [
    "# In \"year_df\" make the following columns: \n",
    "    # profit_margin_percentage which is (profit/revenue)*100\n",
    "year_df[\"profit_margin_percentage\"] = (year_df[\"profit\"]/year_df[\"revenue\"])*100\n",
    "\n",
    "    # roi_percentage which is (profit/investment) * 100 \n",
    "year_df[\"roi_percentage\"] = (year_df[\"profit\"]/year_df[\"investment\"])*100    \n",
    "    # profit_margin_percentage which is (profit/revenue)*100\n",
    "    \n",
    "# Print \"year_df\"\n",
    "year_df"
   ]
  },
  {
   "cell_type": "code",
   "execution_count": null,
   "id": "c2e66a3c",
   "metadata": {},
   "outputs": [],
   "source": [
    "# Create appropriate variables using the sum() and mean() functions on the columns of year_df\n",
    "# and print the following statistics in the following format: \n",
    "\n",
    "    # The total investment over 2 years is X. ... Hint: Z is a sum of the investment column in year_df\n",
    "    # The total profit over 2 years is Y. ... Hint: Y is a sum of the profit column in year_df\n",
    "    # The total return on investment percentage over 2 years is Z %. ... Hint: Z is (Y/X)*100\n",
    "total_investment = year_df.investment.sum()\n",
    "\n",
    "total_profit = year_df.profit.sum()\n",
    "\n",
    "total_return_on_investment_percentage = (total_investment/total_profit)*100\n",
    "\n",
    "print(\"The total investment over 2 years is\",total_investment)\n",
    "print(\"The total profit over 2 years is\",total_profit)\n",
    "print(\"The total return on investment percentage over 2 years is\",total_return_on_investment_percentage,\"%\")\n"
   ]
  },
  {
   "cell_type": "code",
   "execution_count": null,
   "id": "c230abcf",
   "metadata": {},
   "outputs": [],
   "source": [
    "# Save \"year_df\" as a csv file called \"year_df.csv\"\n",
    "year_df.to_csv(\"year_df.csv\")"
   ]
  },
  {
   "cell_type": "markdown",
   "id": "99095af6",
   "metadata": {},
   "source": [
    "# Part 6: High Level Item Analysis (10 Marks)"
   ]
  },
  {
   "cell_type": "code",
   "execution_count": null,
   "id": "86c3c34a",
   "metadata": {
    "scrolled": true
   },
   "outputs": [],
   "source": [
    "# Using the Group By and Agg Pandas Functions\n",
    "# Create a dataframe using \"trans_df\" called \"items_df\" that has the following columns:\n",
    "    # item_name\n",
    "    # main_category\n",
    "    # sub_category\n",
    "    # unit_buying_price (Mean of Unit Buying Price)\n",
    "    # unit_selling_price (Mean of Unit Selling Price)\n",
    "    # unit_price_margin (Mean of Unit Price Margin)\n",
    "    # quantity (Sum of Quantity)\n",
    "    # investment (Sum of Total Buying Price)\n",
    "    # revenue (Sum of Total Selling Price)\n",
    "    # profit (Sum of Total Margin)\n",
    "items_df=trans_df.groupby([\"item_name\",\"main_category\",\"sub_category\"]).agg(unit_buying_price = (\"unit_buying_price\",\"mean\"),\n",
    "                                                                           unit_selling_price = (\"unit_selling_price\",\"mean\"),\n",
    "                                                                           unit_price_margin = (\"unit_price_margin\",\"mean\"),\n",
    "                                                                           quantity = (\"quantity\", \"sum\"),\n",
    "                                                                           investment = (\"total_buying_price\", \"sum\"),\n",
    "                                                                           revenue = (\"total_selling_price\",\"sum\"),\n",
    "                                                                           profit = (\"total_margin\",\"sum\"))\n",
    "# Reset the index of items_df\n",
    "items_df=items_df.reset_index()\n",
    "\n",
    "\n",
    "# Print the top 20 items in items_df by the item_name column in ascending order\n",
    "top_20_items=items_df.sort_values(\"item_name\",ascending= True).head(20)\n",
    "top_20_items"
   ]
  },
  {
   "cell_type": "markdown",
   "id": "9d203c0a",
   "metadata": {},
   "source": [
    "## What are the top 10 items by revenue? "
   ]
  },
  {
   "cell_type": "code",
   "execution_count": null,
   "id": "a15b34df",
   "metadata": {},
   "outputs": [],
   "source": [
    "# What are the top 30 most revenue generating items for the last two years? \n",
    "# Hint: Sort items_df by the revenue column in descending order\n",
    "rev_generating_top_30_items = items_df.sort_values(\"revenue\",ascending= False).head(30)\n",
    "rev_generating_top_30_items"
   ]
  },
  {
   "cell_type": "markdown",
   "id": "486c0731",
   "metadata": {},
   "source": [
    "## What are the top 10 items by quantity?"
   ]
  },
  {
   "cell_type": "code",
   "execution_count": null,
   "id": "e9ce17be",
   "metadata": {},
   "outputs": [],
   "source": [
    "# What are the top 10 most items by quantity for the last two years? \n",
    "# Hint: Sort items_df by the quantity column in descending order\n",
    "quantity_of_top_10_items = items_df.sort_values(\"quantity\",ascending= False).head(10)\n",
    "quantity_of_top_10_items"
   ]
  },
  {
   "cell_type": "markdown",
   "id": "4031b3ca",
   "metadata": {},
   "source": [
    "## What are the top 10 items by profit?"
   ]
  },
  {
   "cell_type": "code",
   "execution_count": null,
   "id": "f675fd3d",
   "metadata": {
    "scrolled": true
   },
   "outputs": [],
   "source": [
    "# What are the top 10 most items by quantity for the last two years? \n",
    "# Hint: Sort items_df by the quantity column in descending order\n",
    "quantity_of_top_10_items = items_df.sort_values(\"quantity\",ascending= False).head(10)\n",
    "quantity_of_top_10_items"
   ]
  },
  {
   "cell_type": "code",
   "execution_count": null,
   "id": "1d7469a0",
   "metadata": {},
   "outputs": [],
   "source": [
    "# Save items_df as a csv file called \"items_df.csv\"\n",
    "items_df.to_csv(\"items_df.csv\")"
   ]
  },
  {
   "cell_type": "markdown",
   "id": "10d973fe",
   "metadata": {},
   "source": [
    "# Part 7: Category and Sub Category Analysis (5 Marks)"
   ]
  },
  {
   "cell_type": "code",
   "execution_count": null,
   "id": "584b96c2",
   "metadata": {},
   "outputs": [],
   "source": [
    "# Using the Group By and Agg Pandas Functions\n",
    "# Create a dataframe using \"trans_df\" called \"categories_df\" that has the following columns:\n",
    "    # main_category\n",
    "    # quantity (Sum of Quantity)\n",
    "    # investment (Sum of Total Buying Price)\n",
    "    # revenue (Sum of Total Selling Price)\n",
    "    # profit (Sum of Total Margin)\n",
    "categories_df = trans_df.groupby([\"main_category\"]).agg(quantity = (\"quantity\", \"sum\"),\n",
    "                                                    investment = (\"total_buying_price\", \"sum\"),\n",
    "                                                    revenue = (\"total_selling_price\",\"sum\"),\n",
    "                                                    profit = (\"total_margin\",\"sum\"))\n",
    "        \n",
    "# Print the top 5 rows in categories_df sorted by profit in Descending Order\n",
    "top_5_rows=categories_df.sort_values(\"profit\",ascending= False).head(5)\n",
    "top_5_rows\n"
   ]
  },
  {
   "cell_type": "code",
   "execution_count": null,
   "id": "058efee5",
   "metadata": {},
   "outputs": [],
   "source": [
    "\n",
    "# Make a column in categories_df called roi_percentage which is the (profit/investment)*100 \n",
    "categories_df[\"roi_percentage\"] = (categories_df[\"profit\"]/categories_df[\"investment\"])*100\n",
    "# Print categories_df sorted by roi_percentage in descending order\n",
    "items = categories_df.sort_values(\"roi_percentage\",ascending= False)\n",
    "items\n"
   ]
  },
  {
   "cell_type": "code",
   "execution_count": null,
   "id": "b915da43",
   "metadata": {},
   "outputs": [],
   "source": [
    "# Save categories_df as a csv file called \"categories_df.csv\"\n",
    "categories_df.to_csv(\"categories_df.csv\")"
   ]
  },
  {
   "cell_type": "markdown",
   "id": "26d6148d",
   "metadata": {},
   "source": [
    "# Part 8: Purchase Patterns Analysis (5 Marks)"
   ]
  },
  {
   "cell_type": "code",
   "execution_count": null,
   "id": "f3f8c50d",
   "metadata": {},
   "outputs": [],
   "source": [
    "# Create a dataframe called \"bulk_trans_df\" using trans_df that only keeps rows which have the quantity_type as \"Bulk\"\n",
    "bulk_trans_df=trans_df.loc[trans_df[\"quantity_type\"] == \"bulk\"]\n",
    "\n",
    "# Print bulk_trans_df\n",
    "bulk_trans_df\n"
   ]
  },
  {
   "cell_type": "code",
   "execution_count": null,
   "id": "19f24367",
   "metadata": {
    "scrolled": true
   },
   "outputs": [],
   "source": [
    "# Using the Group By and Agg Pandas Functions\n",
    "# Create a dataframe using \"bulk_trans_df\" called \"bulk_df\" that has the following columns:\n",
    "    # item_name\n",
    "    # main_category\n",
    "    # sub_category\n",
    "    # transactions (Count of Unique Receipt IDs)....Hint: Use \"nunique\" instead of \"count\"\n",
    "    # quantity (Sum of Quantity)\n",
    "    # investment (Sum of Total Buying Price)\n",
    "    # revenue (Sum of Total Selling Price)\n",
    "    # profit (Sum of Total Margin)\n",
    "bulk_df = bulk_trans_df.groupby([\"item_name\", \"main_category\", \"sub_category\"]).agg(transactions = (\"receipt_id\", \"nunique\"),\n",
    "                                                                                investment = (\"total_buying_price\", \"sum\"),\n",
    "                                                                                revenue = (\"total_selling_price\",\"sum\"),\n",
    "                                                                                profit = (\"total_margin\",\"sum\"))\n",
    "\n",
    "\n",
    "# Print the top 10 rows in bulk_df sorted by the transactions in descending order\n",
    "top_10_items = bulk_df.sort_values(\"transactions\",ascending= False).head(10)\n",
    "top_10_items"
   ]
  },
  {
   "cell_type": "code",
   "execution_count": null,
   "id": "1b95b368",
   "metadata": {},
   "outputs": [],
   "source": [
    "# Save bulk_df as a csv file called \"bulk_df.csv\"\n",
    "bulk_df.to_csv(\"bulk_df.csv\")"
   ]
  },
  {
   "cell_type": "markdown",
   "id": "cc9acbd5",
   "metadata": {},
   "source": [
    "# Part 9: Data Visualization (10 Marks)"
   ]
  },
  {
   "cell_type": "markdown",
   "id": "48e36293",
   "metadata": {},
   "source": [
    "## Create one of the bar charts requested below based on your roll number\n",
    "\n",
    "### If your roll number is odd: Make a bar chart that shows the total profit (sum of total margin) by month. Ensure your bar chart: \n",
    "\n",
    "- Is Sorted in Descending Order\n",
    "- Uses the following color: \"#000000\"\n",
    "- Has a Figure Size of 15 x 5\n",
    "- Remember to reset_index() your bar_chart_df"
   ]
  },
  {
   "cell_type": "code",
   "execution_count": null,
   "id": "0c974a29",
   "metadata": {},
   "outputs": [],
   "source": [
    "# Bar Chart Df \n"
   ]
  },
  {
   "cell_type": "code",
   "execution_count": null,
   "id": "01344b41",
   "metadata": {},
   "outputs": [],
   "source": [
    "# Data Visualization\n"
   ]
  },
  {
   "cell_type": "markdown",
   "id": "68364fc9",
   "metadata": {},
   "source": [
    "### If your roll number is even: Make a bar chart that shows the total quantity of items by hour of day. Ensure your bar chart: \n",
    "\n",
    "- Is Sorted in Descending Order\n",
    "- Uses the following color: \"##00FF00\"\n",
    "- Has a Figure Size of 15 x 10\n",
    "- Remember to reset_index() your bar_chart_df"
   ]
  },
  {
   "cell_type": "code",
   "execution_count": null,
   "id": "efb23d5f",
   "metadata": {},
   "outputs": [],
   "source": [
    "# Bar Chart Df \n",
    "bar_chart_df = trans_df.groupby([\"hour_of_the_day\"]).agg(total_quantity=(\"quantity\", \"sum\"))\n",
    "bar_chart_df = bar_chart_df.sort_values(\"hour_of_the_day\", ascending = False).reset_index()\n",
    "bar_chart_df"
   ]
  },
  {
   "cell_type": "code",
   "execution_count": null,
   "id": "b6acf5e2",
   "metadata": {},
   "outputs": [],
   "source": [
    "# Data Visualization\n",
    "sns.set(rc={'figure.figsize':(15,10)})\n",
    "sns.barplot(x=\"hour_of_The_day\", y=\"total_quantity\", \n",
    "            data = bar_chart_df, color = \"#00FF00\")"
   ]
  },
  {
   "cell_type": "markdown",
   "id": "53ddc396",
   "metadata": {},
   "source": [
    "# Part 10: Bonus - Fresh Produce Section (10 Marks)\n",
    "## Using items_df make a dataframe called \"fresh_produce_df\" that only keeps items that belong to the \"Fresh Produce\" main category (Hint: Use a filter)"
   ]
  },
  {
   "cell_type": "code",
   "execution_count": null,
   "id": "5b61847f",
   "metadata": {},
   "outputs": [],
   "source": [
    "# Make fresh_produce_df\n",
    "\n",
    "\n",
    "# Print Fresh Produce\n"
   ]
  },
  {
   "cell_type": "markdown",
   "id": "832929a6",
   "metadata": {},
   "source": [
    "## Print out your answers to the following questions**\n",
    "- What was the total revenue (aka total selling price) generated by the Fresh Produce category? \n",
    "- What was the total investment (aka total buying price) in the Fresh Produce category? \n",
    "- What was the total profit(aka revenue - invesmtent)in the Fresh Produce category? \n",
    "- What was the roi_percentage in teh Fresh Produce category? \n",
    "- Is the Fresh Produce category profitable (aka is the revenue greater than the investment)? "
   ]
  },
  {
   "cell_type": "code",
   "execution_count": null,
   "id": "935e0fc4",
   "metadata": {},
   "outputs": [],
   "source": [
    "# Make variables to answer the following questions\n",
    "    # What was the total investment (aka total buying price) in the Fresh Produce category? \n",
    "    # What was the total revenue (aka total selling price) generated by the Fresh Produce category? \n",
    "    # What was the total profit(aka revenue - invesmtent)in the Fresh Produce category? \n",
    "    # What was the roi_percentage in teh Fresh Produce category? \n",
    "    # Is the Fresh Produce category profitable (aka is the revenue greater than the investment)? \n",
    "\n"
   ]
  },
  {
   "cell_type": "code",
   "execution_count": null,
   "id": "27cf4b82",
   "metadata": {},
   "outputs": [],
   "source": [
    "# Print the Variables you created above in the following structure\n",
    "    # Total investment: X\n",
    "    # Total Revenue: X \n",
    "    # Total Profit: X\n",
    "    # ROI Percentage: X\n",
    "    # Is the Fresh Produce category profitable? X %\n",
    "    "
   ]
  },
  {
   "cell_type": "code",
   "execution_count": null,
   "id": "46aa3161",
   "metadata": {},
   "outputs": [],
   "source": [
    "# Save fresh_produce_df as a csv file called \"fresh_produce_df.csv\"\n"
   ]
  },
  {
   "cell_type": "markdown",
   "id": "6be7b4d7",
   "metadata": {},
   "source": [
    "## Which items in the Fresh Produce Section Should we stop selling? "
   ]
  },
  {
   "cell_type": "code",
   "execution_count": null,
   "id": "a41b06d2",
   "metadata": {},
   "outputs": [],
   "source": [
    "# Using items_df create a dataframe called \"stop_selling_df\" which has \n",
    "# only fresh produce items that sold less than 730 units in the last 2 years \n",
    "# so that we know which items we should consider stop selling\n",
    "\n",
    "# Print \"stop_selling_df\" sorted by the quantity column in ascending order\n"
   ]
  },
  {
   "cell_type": "code",
   "execution_count": null,
   "id": "9b09c5ee",
   "metadata": {},
   "outputs": [],
   "source": [
    "# Save stop_selling_df as a csv file called \"stop_selling_df.csv\"\n"
   ]
  },
  {
   "cell_type": "markdown",
   "id": "ebaa213b",
   "metadata": {},
   "source": [
    "## Which items in the Fresh Produce Section Should we consider for a margin increase? "
   ]
  },
  {
   "cell_type": "code",
   "execution_count": null,
   "id": "b3faba23",
   "metadata": {},
   "outputs": [],
   "source": [
    "# Using items_df create a dataframe called \"change_margin_df\" \n",
    "# to only show fresh produce items thatsold atleast 730 units in the last 2 years\n",
    "# so that we know which items we should potentially change the margin of\n",
    "\n",
    "# Print \"change_margin_df\" sorted by the quantity column in descending order\n"
   ]
  },
  {
   "cell_type": "code",
   "execution_count": null,
   "id": "5c08b75f",
   "metadata": {},
   "outputs": [],
   "source": [
    "# Save change_margin_df as a csv file called \"change_margin_df.csv\"\n"
   ]
  },
  {
   "cell_type": "markdown",
   "id": "d7fa37ef",
   "metadata": {},
   "source": [
    "## Part 11 A - Bonus (5 marks) - Write a Systematic Method to Evaluate How Valuable a Pantry Staples Item Is To the Grocery Store. As you go about this, think about first defining what valuable means "
   ]
  },
  {
   "cell_type": "code",
   "execution_count": null,
   "id": "f6279860",
   "metadata": {},
   "outputs": [],
   "source": []
  },
  {
   "cell_type": "markdown",
   "id": "04980d39",
   "metadata": {},
   "source": [
    "## Part 11 B - Bonus (5 marks) - Write out how you would execute the systematic method and show us the items you consider as valuable. "
   ]
  },
  {
   "cell_type": "code",
   "execution_count": null,
   "id": "5c54be3d",
   "metadata": {},
   "outputs": [],
   "source": []
  }
 ],
 "metadata": {
  "kernelspec": {
   "display_name": "Python 3",
   "language": "python",
   "name": "python3"
  },
  "language_info": {
   "codemirror_mode": {
    "name": "ipython",
    "version": 3
   },
   "file_extension": ".py",
   "mimetype": "text/x-python",
   "name": "python",
   "nbconvert_exporter": "python",
   "pygments_lexer": "ipython3",
   "version": "3.8.8"
  }
 },
 "nbformat": 4,
 "nbformat_minor": 5
}
