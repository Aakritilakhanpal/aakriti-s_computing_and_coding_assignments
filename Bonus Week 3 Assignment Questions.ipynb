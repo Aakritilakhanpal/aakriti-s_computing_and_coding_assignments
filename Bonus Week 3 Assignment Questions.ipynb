{
 "cells": [
  {
   "cell_type": "markdown",
   "id": "324f16d6",
   "metadata": {},
   "source": [
    "# Bonus Assignment 3: For Loops and Lists\n",
    "\n",
    "- Student Name: Aakriti Lakhanpal\n",
    "- Division: B\n",
    "- Roll Number: 02"
   ]
  },
  {
   "cell_type": "markdown",
   "id": "b07c8a7a",
   "metadata": {},
   "source": [
    "# For Loops"
   ]
  },
  {
   "cell_type": "markdown",
   "id": "fa6ebbf9",
   "metadata": {},
   "source": [
    "# Q1) Create a function called emoji_grader that accepts a list of grades and prints emojis based on the following grading scheme: \n",
    "- 100: 😱😱😱😱😱😱\n",
    "- 90 to 99: 🔥🔥🔥🔥🔥\n",
    "- 70 to 89: 🎉🎉🎉🎉🎉\n",
    "- 60 to 69: 😐😐😐😐😐\n",
    "- 35 to 59: 👀\n",
    "- 1 to 35: 👀👀👀👀👀\n",
    "- 0: 💀💀💀💀💀"
   ]
  },
  {
   "cell_type": "code",
   "execution_count": 1,
   "id": "a7b0caf0",
   "metadata": {},
   "outputs": [],
   "source": [
    "def emoji_grader(marks):\n",
    "    if marks==100:\n",
    "        return \"😱😱😱😱😱😱\"\n",
    "    elif marks>= 90 and grade<= 99:\n",
    "        return \"🔥🔥🔥🔥🔥\"\n",
    "    elif marks>= 70 and grade<= 89:\n",
    "        return \"🎉🎉🎉🎉🎉\"\n",
    "    elif marks>= 60 and grade<= 69:\n",
    "        return \"😐😐😐😐😐\"\n",
    "    elif marks>= 35 and grade<= 59:\n",
    "        return \"👀\"\n",
    "    elif marks>= 1 and grade<= 35:\n",
    "        return \"👀👀👀👀👀\"\n",
    "    else:\n",
    "        return \"💀💀💀💀💀\""
   ]
  },
  {
   "cell_type": "markdown",
   "id": "bac1f93e",
   "metadata": {},
   "source": [
    "## Q2) Create a function called square_printer that accepts a list of numbers and prints the square of each number in the list. Test your function with two lists. (5 Marks): \n",
    "\n",
    "**Here is an example of what the output would look like for the following list [2,4,5]**\n",
    "\n",
    "Current Number is 2  and the Square is 4\n",
    "\n",
    "Current Number is 4  and the Square is 16\n",
    "\n",
    "Current Number is 5  and the Square is 25"
   ]
  },
  {
   "cell_type": "code",
   "execution_count": 2,
   "id": "21d996c3",
   "metadata": {},
   "outputs": [],
   "source": [
    "def square_printer(numbers):\n",
    "    for number in numbers:\n",
    "        print(\" the current number is \" + str(number) + \"and its square is \" + str(number**2))\n",
    "    "
   ]
  },
  {
   "cell_type": "code",
   "execution_count": 3,
   "id": "db25e30a",
   "metadata": {},
   "outputs": [
    {
     "name": "stdout",
     "output_type": "stream",
     "text": [
      " the current number is 3and its square is 9\n",
      " the current number is 6and its square is 36\n",
      " the current number is 9and its square is 81\n"
     ]
    }
   ],
   "source": [
    "numbers = [3, 6, 9]\n",
    "square_printer(numbers)"
   ]
  },
  {
   "cell_type": "code",
   "execution_count": 4,
   "id": "984755b4",
   "metadata": {},
   "outputs": [
    {
     "name": "stdout",
     "output_type": "stream",
     "text": [
      " the current number is 5and its square is 25\n",
      " the current number is 10and its square is 100\n",
      " the current number is 15and its square is 225\n"
     ]
    }
   ],
   "source": [
    "numbers = [5, 10, 15]\n",
    "square_printer(numbers)"
   ]
  },
  {
   "cell_type": "markdown",
   "id": "c3fdc03e",
   "metadata": {},
   "source": [
    "# Q3) Create a function called vowel_count_printer that (10 Marks): \n",
    "\n",
    "\n",
    "- Accepts a sentence \n",
    "- Prints the total vowels (\"a\", \"e\", \"i', \"o\", \"u\") for each word in the sentence\n",
    "- Ensure your function is not case sensitve\n",
    "\n",
    "**For example, the sentence \"Hello, I am Zoshua Colah\" should print the following:**\n",
    "\n",
    "Current Word is: Hello and the Total Vowels in the Word are 2\n",
    "\n",
    "Current Word is: I and the Total Vowels in the Word are 1\n",
    "\n",
    "Current Word is: am and the Total Vowels in the Word are 1\n",
    "\n",
    "Current Word is: Zoshua and the Total Vowels in the Word are 3\n",
    "\n",
    "Current Word is: Colah and the Total Vowels in the Word are 2"
   ]
  },
  {
   "cell_type": "code",
   "execution_count": 9,
   "id": "3b304654",
   "metadata": {},
   "outputs": [],
   "source": [
    "def vowel_count_printer(sentence):\n",
    "    words = sentence.split(\" \")\n",
    "    for word in words:\n",
    "        number_of_vowels =0\n",
    "    for letter in word:\n",
    "        if \"a\" in letter.lower():\n",
    "            number_of_vowels +=1\n",
    "        if \"e\" in letter.lower():   \n",
    "            number_of_vowels +=1\n",
    "        if \"i\" in letter.lower():   \n",
    "            number_of_vowels +=1\n",
    "        if \"o\" in letter.lower():  \n",
    "            number_of_vowels +=1\n",
    "        if \"u\" in letter.lower():  \n",
    "            number_of_vowels +=1\n",
    "            number_of_vowels = number_of_vowels + 1\n",
    "        print (\"current word is: \" + word + \" and the total vowels in the word are \" + number_of_vowels)"
   ]
  },
  {
   "cell_type": "code",
   "execution_count": 10,
   "id": "c39bdacc",
   "metadata": {},
   "outputs": [
    {
     "ename": "TypeError",
     "evalue": "can only concatenate str (not \"int\") to str",
     "output_type": "error",
     "traceback": [
      "\u001b[1;31m---------------------------------------------------------------------------\u001b[0m",
      "\u001b[1;31mTypeError\u001b[0m                                 Traceback (most recent call last)",
      "\u001b[1;32m<ipython-input-10-53f358f9eae4>\u001b[0m in \u001b[0;36m<module>\u001b[1;34m\u001b[0m\n\u001b[0;32m      1\u001b[0m \u001b[0msentence\u001b[0m \u001b[1;33m=\u001b[0m \u001b[1;34m\"Hello, I am Aakriti\"\u001b[0m\u001b[1;33m\u001b[0m\u001b[1;33m\u001b[0m\u001b[0m\n\u001b[1;32m----> 2\u001b[1;33m \u001b[0mvowel_count_printer\u001b[0m\u001b[1;33m(\u001b[0m\u001b[0msentence\u001b[0m\u001b[1;33m)\u001b[0m\u001b[1;33m\u001b[0m\u001b[1;33m\u001b[0m\u001b[0m\n\u001b[0m",
      "\u001b[1;32m<ipython-input-9-609ab3662581>\u001b[0m in \u001b[0;36mvowel_count_printer\u001b[1;34m(sentence)\u001b[0m\n\u001b[0;32m     15\u001b[0m             \u001b[0mnumber_of_vowels\u001b[0m \u001b[1;33m+=\u001b[0m\u001b[1;36m1\u001b[0m\u001b[1;33m\u001b[0m\u001b[1;33m\u001b[0m\u001b[0m\n\u001b[0;32m     16\u001b[0m             \u001b[0mnumber_of_vowels\u001b[0m \u001b[1;33m=\u001b[0m \u001b[0mnumber_of_vowels\u001b[0m \u001b[1;33m+\u001b[0m \u001b[1;36m1\u001b[0m\u001b[1;33m\u001b[0m\u001b[1;33m\u001b[0m\u001b[0m\n\u001b[1;32m---> 17\u001b[1;33m         \u001b[0mprint\u001b[0m \u001b[1;33m(\u001b[0m\u001b[1;34m\"current word is: \"\u001b[0m \u001b[1;33m+\u001b[0m \u001b[0mword\u001b[0m \u001b[1;33m+\u001b[0m \u001b[1;34m\" and the total vowels in the word are \"\u001b[0m \u001b[1;33m+\u001b[0m \u001b[0mnumber_of_vowels\u001b[0m\u001b[1;33m)\u001b[0m\u001b[1;33m\u001b[0m\u001b[1;33m\u001b[0m\u001b[0m\n\u001b[0m",
      "\u001b[1;31mTypeError\u001b[0m: can only concatenate str (not \"int\") to str"
     ]
    }
   ],
   "source": [
    "sentence = \"Hello, I am Aakriti\"\n",
    "vowel_count_printer(sentence)"
   ]
  },
  {
   "cell_type": "code",
   "execution_count": null,
   "id": "9edc91ae",
   "metadata": {},
   "outputs": [],
   "source": []
  },
  {
   "cell_type": "code",
   "execution_count": null,
   "id": "ab09a2a6",
   "metadata": {},
   "outputs": [],
   "source": []
  },
  {
   "cell_type": "code",
   "execution_count": null,
   "id": "43bcdb6b",
   "metadata": {},
   "outputs": [],
   "source": []
  }
 ],
 "metadata": {
  "kernelspec": {
   "display_name": "Python 3",
   "language": "python",
   "name": "python3"
  },
  "language_info": {
   "codemirror_mode": {
    "name": "ipython",
    "version": 3
   },
   "file_extension": ".py",
   "mimetype": "text/x-python",
   "name": "python",
   "nbconvert_exporter": "python",
   "pygments_lexer": "ipython3",
   "version": "3.8.8"
  }
 },
 "nbformat": 4,
 "nbformat_minor": 5
}
