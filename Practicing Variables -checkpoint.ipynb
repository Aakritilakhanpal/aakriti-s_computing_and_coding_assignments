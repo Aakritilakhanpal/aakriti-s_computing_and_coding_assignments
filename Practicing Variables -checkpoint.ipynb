{
 "cells": [
  {
   "cell_type": "markdown",
   "id": "5b20af98",
   "metadata": {},
   "source": [
    "# Practice your variables!\n",
    "Course: BBA 108-Essentials of Computing & Coding\n",
    "\n",
    "Submission date: Sunday (19/09/21), 11:59 p.m.\n",
    "\n",
    "Hey everyone! This is a practice bonus assignment worth 10 points. I **highly** encourage all of you to do this.\n",
    "\n",
    "Please contact the following **on Slack** if there are any questions or issues:\n",
    "\n",
    "- @Shourya Watwani \n",
    "- @Vanshika Raj \n",
    "- @Aryan Gupta \n",
    "\n",
    "Thank you! Happy coding :)\n"
   ]
  },
  {
   "cell_type": "code",
   "execution_count": 1,
   "id": "d7643d51",
   "metadata": {},
   "outputs": [
    {
     "data": {
      "text/plain": [
       "'Aakriti Lakhanpal'"
      ]
     },
     "execution_count": 1,
     "metadata": {},
     "output_type": "execute_result"
    }
   ],
   "source": [
    "# Create and print a variable to tell us your name.\n",
    "My_Name = \"Aakriti Lakhanpal\"\n",
    "My_Name"
   ]
  },
  {
   "cell_type": "code",
   "execution_count": 9,
   "id": "a48e84de",
   "metadata": {},
   "outputs": [
    {
     "data": {
      "text/plain": [
       "18"
      ]
     },
     "execution_count": 9,
     "metadata": {},
     "output_type": "execute_result"
    }
   ],
   "source": [
    "# Create and print a variable to tell us your age.\n",
    "My_Age = 18\n",
    "My_Age"
   ]
  },
  {
   "cell_type": "code",
   "execution_count": 3,
   "id": "fb242ec5",
   "metadata": {},
   "outputs": [
    {
     "data": {
      "text/plain": [
       "12"
      ]
     },
     "execution_count": 3,
     "metadata": {},
     "output_type": "execute_result"
    }
   ],
   "source": [
    "# Create and print a variable to tell us how many times you've taken a trip within India.\n",
    "Number_of_trips_within_India = 12\n",
    "Number_of_trips_within_India"
   ]
  },
  {
   "cell_type": "code",
   "execution_count": 4,
   "id": "ac849402",
   "metadata": {},
   "outputs": [
    {
     "data": {
      "text/plain": [
       "4"
      ]
     },
     "execution_count": 4,
     "metadata": {},
     "output_type": "execute_result"
    }
   ],
   "source": [
    "# Create and print a variable to tell us how many times you've taken a trip outside India.\n",
    "Number_of_trips_outside_India = 4\n",
    "Number_of_trips_outside_India"
   ]
  },
  {
   "cell_type": "code",
   "execution_count": 5,
   "id": "bf7668ee",
   "metadata": {},
   "outputs": [
    {
     "data": {
      "text/plain": [
       "16"
      ]
     },
     "execution_count": 5,
     "metadata": {},
     "output_type": "execute_result"
    }
   ],
   "source": [
    "# Create and print a variable to calculate the total number of trips you've taken.\n",
    "Total_number_of_trips = Number_of_trips_within_India + Number_of_trips_outside_India\n",
    "Total_number_of_trips"
   ]
  },
  {
   "cell_type": "code",
   "execution_count": 6,
   "id": "52224f94",
   "metadata": {},
   "outputs": [
    {
     "data": {
      "text/plain": [
       "'The total number of trips that i have taken are 16'"
      ]
     },
     "execution_count": 6,
     "metadata": {},
     "output_type": "execute_result"
    }
   ],
   "source": [
    "# Create and print a variable to tell us total number of trips you've taken, using the numeric value in a sentence.\n",
    "Total_number_of_trips_taken_sentence = \"The total number of trips that i have taken are \" + str(12+4)\n",
    "Total_number_of_trips_taken_sentence"
   ]
  },
  {
   "cell_type": "code",
   "execution_count": 7,
   "id": "612c68f3",
   "metadata": {},
   "outputs": [
    {
     "data": {
      "text/plain": [
       "True"
      ]
     },
     "execution_count": 7,
     "metadata": {},
     "output_type": "execute_result"
    }
   ],
   "source": [
    "# Create and print a variable to tell us whether the statement-\n",
    "# -\"I have taken more trips within India than outside India\" is true or false using boolean variables.\n",
    "Have_taken_more_trips_within_India_than_outside_India = Number_of_trips_within_India > Number_of_trips_outside_India\n",
    "Have_taken_more_trips_within_India_than_outside_India"
   ]
  },
  {
   "cell_type": "code",
   "execution_count": 10,
   "id": "aaee2c68",
   "metadata": {},
   "outputs": [
    {
     "data": {
      "text/plain": [
       "0.8888888888888888"
      ]
     },
     "execution_count": 10,
     "metadata": {},
     "output_type": "execute_result"
    }
   ],
   "source": [
    "# Create and print a variable to calculate the average number of trips you've taken in a year using-\n",
    "# your total number of trips and your age.\n",
    "Average_number_of_trips_taken_per_year = (Total_number_of_trips/My_Age)\n",
    "Average_number_of_trips_taken_per_year"
   ]
  },
  {
   "cell_type": "code",
   "execution_count": 13,
   "id": "810f16f4",
   "metadata": {},
   "outputs": [
    {
     "data": {
      "text/plain": [
       "'the average number of trips that i have taken are 0.8888888888888888'"
      ]
     },
     "execution_count": 13,
     "metadata": {},
     "output_type": "execute_result"
    }
   ],
   "source": [
    "# Create and print a variable to tell us average number of trips you've taken, using the numeric value in a sentence.\n",
    "average_number_of_trips_taken_sentence = \"the average number of trips that i have taken are \" + str(Average_number_of_trips_taken_per_year)\n",
    "average_number_of_trips_taken_sentence"
   ]
  },
  {
   "cell_type": "code",
   "execution_count": null,
   "id": "86c1d4c9",
   "metadata": {},
   "outputs": [],
   "source": []
  }
 ],
 "metadata": {
  "kernelspec": {
   "display_name": "Python 3",
   "language": "python",
   "name": "python3"
  },
  "language_info": {
   "codemirror_mode": {
    "name": "ipython",
    "version": 3
   },
   "file_extension": ".py",
   "mimetype": "text/x-python",
   "name": "python",
   "nbconvert_exporter": "python",
   "pygments_lexer": "ipython3",
   "version": "3.8.8"
  }
 },
 "nbformat": 4,
 "nbformat_minor": 5
}
